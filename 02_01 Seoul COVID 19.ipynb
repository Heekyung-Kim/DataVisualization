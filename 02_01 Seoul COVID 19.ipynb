{
 "cells": [
  {
   "cell_type": "code",
   "execution_count": 1,
   "metadata": {},
   "outputs": [],
   "source": [
    "# 필요한 라이브러리 불러오기\n",
    "\n",
    "import pandas as pd\n",
    "import matplotlib.pyplot as plt"
   ]
  },
  {
   "cell_type": "code",
   "execution_count": 2,
   "metadata": {},
   "outputs": [
    {
     "data": {
      "text/plain": [
       "'https://www.seoul.go.kr/coronaV/coronaStatus.do'"
      ]
     },
     "execution_count": 2,
     "metadata": {},
     "output_type": "execute_result"
    }
   ],
   "source": [
    "# url 불러오기\n",
    "\n",
    "url = 'https://www.seoul.go.kr/coronaV/coronaStatus.do'\n",
    "url"
   ]
  },
  {
   "cell_type": "code",
   "execution_count": 3,
   "metadata": {},
   "outputs": [
    {
     "data": {
      "text/plain": [
       "8"
      ]
     },
     "execution_count": 3,
     "metadata": {},
     "output_type": "execute_result"
    }
   ],
   "source": [
    "#판다스의 read_html 사용해서 url 속에서 내용 불러오기\n",
    "\n",
    "table = pd.read_html(url)\n",
    "len(table)"
   ]
  },
  {
   "cell_type": "code",
   "execution_count": 4,
   "metadata": {
    "scrolled": true
   },
   "outputs": [
    {
     "data": {
      "text/html": [
       "<div>\n",
       "<style scoped>\n",
       "    .dataframe tbody tr th:only-of-type {\n",
       "        vertical-align: middle;\n",
       "    }\n",
       "\n",
       "    .dataframe tbody tr th {\n",
       "        vertical-align: top;\n",
       "    }\n",
       "\n",
       "    .dataframe thead th {\n",
       "        text-align: right;\n",
       "    }\n",
       "</style>\n",
       "<table border=\"1\" class=\"dataframe\">\n",
       "  <thead>\n",
       "    <tr style=\"text-align: right;\">\n",
       "      <th></th>\n",
       "      <th>0</th>\n",
       "    </tr>\n",
       "  </thead>\n",
       "  <tbody>\n",
       "    <tr>\n",
       "      <th>소계</th>\n",
       "      <td>1607</td>\n",
       "    </tr>\n",
       "    <tr>\n",
       "      <th>해외접촉관련</th>\n",
       "      <td>343</td>\n",
       "    </tr>\n",
       "    <tr>\n",
       "      <th>송파구교회관련</th>\n",
       "      <td>18</td>\n",
       "    </tr>\n",
       "    <tr>\n",
       "      <th>강서구요양시설관련</th>\n",
       "      <td>26</td>\n",
       "    </tr>\n",
       "    <tr>\n",
       "      <th>강남구사무실관련</th>\n",
       "      <td>29</td>\n",
       "    </tr>\n",
       "    <tr>\n",
       "      <th>강남구사무실K빌딩</th>\n",
       "      <td>7</td>\n",
       "    </tr>\n",
       "    <tr>\n",
       "      <th>강남구역삼동모임</th>\n",
       "      <td>13</td>\n",
       "    </tr>\n",
       "    <tr>\n",
       "      <th>리치웨이관련</th>\n",
       "      <td>122</td>\n",
       "    </tr>\n",
       "    <tr>\n",
       "      <th>부천시쿠팡관련</th>\n",
       "      <td>24</td>\n",
       "    </tr>\n",
       "    <tr>\n",
       "      <th>관악구사무실관련</th>\n",
       "      <td>14</td>\n",
       "    </tr>\n",
       "    <tr>\n",
       "      <th>이태원클럽관련</th>\n",
       "      <td>139</td>\n",
       "    </tr>\n",
       "    <tr>\n",
       "      <th>구로구콜센터관련</th>\n",
       "      <td>98</td>\n",
       "    </tr>\n",
       "    <tr>\n",
       "      <th>타 시·도확진자접촉자</th>\n",
       "      <td>55</td>\n",
       "    </tr>\n",
       "    <tr>\n",
       "      <th>기타</th>\n",
       "      <td>552</td>\n",
       "    </tr>\n",
       "    <tr>\n",
       "      <th>경로확인중</th>\n",
       "      <td>167</td>\n",
       "    </tr>\n",
       "  </tbody>\n",
       "</table>\n",
       "</div>"
      ],
      "text/plain": [
       "                0\n",
       "소계           1607\n",
       "해외접촉관련        343\n",
       "송파구교회관련        18\n",
       "강서구요양시설관련      26\n",
       "강남구사무실관련       29\n",
       "강남구사무실K빌딩       7\n",
       "강남구역삼동모임       13\n",
       "리치웨이관련        122\n",
       "부천시쿠팡관련        24\n",
       "관악구사무실관련       14\n",
       "이태원클럽관련       139\n",
       "구로구콜센터관련       98\n",
       "타 시·도확진자접촉자    55\n",
       "기타            552\n",
       "경로확인중         167"
      ]
     },
     "execution_count": 4,
     "metadata": {},
     "output_type": "execute_result"
    }
   ],
   "source": [
    "# html 태그 불러오기\n",
    "\n",
    "table[2].transpose() #행과 열 바꿔서 보기"
   ]
  },
  {
   "cell_type": "code",
   "execution_count": 5,
   "metadata": {},
   "outputs": [
    {
     "data": {
      "text/html": [
       "<div>\n",
       "<style scoped>\n",
       "    .dataframe tbody tr th:only-of-type {\n",
       "        vertical-align: middle;\n",
       "    }\n",
       "\n",
       "    .dataframe tbody tr th {\n",
       "        vertical-align: top;\n",
       "    }\n",
       "\n",
       "    .dataframe thead th {\n",
       "        text-align: right;\n",
       "    }\n",
       "</style>\n",
       "<table border=\"1\" class=\"dataframe\">\n",
       "  <thead>\n",
       "    <tr style=\"text-align: right;\">\n",
       "      <th></th>\n",
       "      <th>연번</th>\n",
       "      <th>환자번호</th>\n",
       "      <th>감염경로</th>\n",
       "      <th>확진일</th>\n",
       "      <th>거주지</th>\n",
       "      <th>격리시설</th>\n",
       "    </tr>\n",
       "  </thead>\n",
       "  <tbody>\n",
       "    <tr>\n",
       "      <th>0</th>\n",
       "      <td>1607  &lt;tr&gt;  &lt;td class=\"tdl\" colspan=\"5\"&gt;  &lt;p&gt;확...</td>\n",
       "      <td>#14364</td>\n",
       "      <td>송파구 확진자 접촉</td>\n",
       "      <td>8/1</td>\n",
       "      <td>양천구</td>\n",
       "      <td>NaN</td>\n",
       "    </tr>\n",
       "    <tr>\n",
       "      <th>1</th>\n",
       "      <td>1606  &lt;tr&gt;  &lt;td class=\"tdl\" colspan=\"5\"&gt;  &lt;p&gt;확...</td>\n",
       "      <td>#14362</td>\n",
       "      <td>종로구 지인모임 신명투자</td>\n",
       "      <td>8/1</td>\n",
       "      <td>종로구</td>\n",
       "      <td>서울의료원</td>\n",
       "    </tr>\n",
       "    <tr>\n",
       "      <th>2</th>\n",
       "      <td>1605  &lt;tr&gt;  &lt;td class=\"tdl\" colspan=\"5\"&gt;  &lt;p&gt;확...</td>\n",
       "      <td>#14360</td>\n",
       "      <td>확인 중</td>\n",
       "      <td>7/31</td>\n",
       "      <td>마포구</td>\n",
       "      <td>서울대학교병원</td>\n",
       "    </tr>\n",
       "    <tr>\n",
       "      <th>3</th>\n",
       "      <td>1604  &lt;tr&gt;  &lt;td class=\"tdl\" colspan=\"5\"&gt;  &lt;p&gt;확...</td>\n",
       "      <td>#14366</td>\n",
       "      <td>강서구 요양시설관련</td>\n",
       "      <td>8/1</td>\n",
       "      <td>강서구</td>\n",
       "      <td>보라매병원</td>\n",
       "    </tr>\n",
       "    <tr>\n",
       "      <th>4</th>\n",
       "      <td>1603  &lt;tr&gt;  &lt;td class=\"tdl\" colspan=\"5\"&gt;  &lt;p&gt;확...</td>\n",
       "      <td>#14365</td>\n",
       "      <td>강서구 요양시설관련</td>\n",
       "      <td>8/1</td>\n",
       "      <td>강서구</td>\n",
       "      <td>삼육서울병원</td>\n",
       "    </tr>\n",
       "  </tbody>\n",
       "</table>\n",
       "</div>"
      ],
      "text/plain": [
       "                                                  연번    환자번호           감염경로  \\\n",
       "0  1607  <tr>  <td class=\"tdl\" colspan=\"5\">  <p>확...  #14364     송파구 확진자 접촉   \n",
       "1  1606  <tr>  <td class=\"tdl\" colspan=\"5\">  <p>확...  #14362  종로구 지인모임 신명투자   \n",
       "2  1605  <tr>  <td class=\"tdl\" colspan=\"5\">  <p>확...  #14360           확인 중   \n",
       "3  1604  <tr>  <td class=\"tdl\" colspan=\"5\">  <p>확...  #14366     강서구 요양시설관련   \n",
       "4  1603  <tr>  <td class=\"tdl\" colspan=\"5\">  <p>확...  #14365     강서구 요양시설관련   \n",
       "\n",
       "    확진일  거주지     격리시설  \n",
       "0   8/1  양천구      NaN  \n",
       "1   8/1  종로구    서울의료원  \n",
       "2  7/31  마포구  서울대학교병원  \n",
       "3   8/1  강서구    보라매병원  \n",
       "4   8/1  강서구   삼육서울병원  "
      ]
     },
     "execution_count": 5,
     "metadata": {},
     "output_type": "execute_result"
    }
   ],
   "source": [
    "# 필요한 테이블을 가져온다.\n",
    "\n",
    "df = table[7]\n",
    "df.head()"
   ]
  },
  {
   "cell_type": "code",
   "execution_count": 9,
   "metadata": {
    "scrolled": true
   },
   "outputs": [
    {
     "data": {
      "text/plain": [
       "'8_1'"
      ]
     },
     "execution_count": 9,
     "metadata": {},
     "output_type": "execute_result"
    }
   ],
   "source": [
    "# 가장 최근 확진일 보기\n",
    "# 날짜명을 파일제목으로 쓰기 위해 표현 형식 바꿔주기\n",
    "\n",
    "last_day = df.loc[0, \"확진일\"]\n",
    "last_day = last_day.replace('/', '_')\n",
    "last_day"
   ]
  },
  {
   "cell_type": "code",
   "execution_count": 10,
   "metadata": {},
   "outputs": [
    {
     "data": {
      "text/plain": [
       "'seoul-covid19_8_1.csv'"
      ]
     },
     "execution_count": 10,
     "metadata": {},
     "output_type": "execute_result"
    }
   ],
   "source": [
    "# 파일명 정하기\n",
    "# file_name(주피터 내장)을 사용하면, 파일명을 출력해준다.\n",
    "\n",
    "file_name = f\"seoul-covid19_{last_day}.csv\"\n",
    "file_name"
   ]
  },
  {
   "cell_type": "code",
   "execution_count": 11,
   "metadata": {},
   "outputs": [],
   "source": [
    "# csv파일로 저장해주기\n",
    "\n",
    "df.to_csv(file_name, index = False)"
   ]
  },
  {
   "cell_type": "code",
   "execution_count": 12,
   "metadata": {},
   "outputs": [
    {
     "data": {
      "text/html": [
       "<div>\n",
       "<style scoped>\n",
       "    .dataframe tbody tr th:only-of-type {\n",
       "        vertical-align: middle;\n",
       "    }\n",
       "\n",
       "    .dataframe tbody tr th {\n",
       "        vertical-align: top;\n",
       "    }\n",
       "\n",
       "    .dataframe thead th {\n",
       "        text-align: right;\n",
       "    }\n",
       "</style>\n",
       "<table border=\"1\" class=\"dataframe\">\n",
       "  <thead>\n",
       "    <tr style=\"text-align: right;\">\n",
       "      <th></th>\n",
       "      <th>연번</th>\n",
       "      <th>환자번호</th>\n",
       "      <th>감염경로</th>\n",
       "      <th>확진일</th>\n",
       "      <th>거주지</th>\n",
       "      <th>격리시설</th>\n",
       "    </tr>\n",
       "  </thead>\n",
       "  <tbody>\n",
       "    <tr>\n",
       "      <th>0</th>\n",
       "      <td>1607  &lt;tr&gt;  &lt;td class=\"tdl\" colspan=\"5\"&gt;  &lt;p&gt;확...</td>\n",
       "      <td>#14364</td>\n",
       "      <td>송파구 확진자 접촉</td>\n",
       "      <td>8/1</td>\n",
       "      <td>양천구</td>\n",
       "      <td>NaN</td>\n",
       "    </tr>\n",
       "    <tr>\n",
       "      <th>1</th>\n",
       "      <td>1606  &lt;tr&gt;  &lt;td class=\"tdl\" colspan=\"5\"&gt;  &lt;p&gt;확...</td>\n",
       "      <td>#14362</td>\n",
       "      <td>종로구 지인모임 신명투자</td>\n",
       "      <td>8/1</td>\n",
       "      <td>종로구</td>\n",
       "      <td>서울의료원</td>\n",
       "    </tr>\n",
       "    <tr>\n",
       "      <th>2</th>\n",
       "      <td>1605  &lt;tr&gt;  &lt;td class=\"tdl\" colspan=\"5\"&gt;  &lt;p&gt;확...</td>\n",
       "      <td>#14360</td>\n",
       "      <td>확인 중</td>\n",
       "      <td>7/31</td>\n",
       "      <td>마포구</td>\n",
       "      <td>서울대학교병원</td>\n",
       "    </tr>\n",
       "    <tr>\n",
       "      <th>3</th>\n",
       "      <td>1604  &lt;tr&gt;  &lt;td class=\"tdl\" colspan=\"5\"&gt;  &lt;p&gt;확...</td>\n",
       "      <td>#14366</td>\n",
       "      <td>강서구 요양시설관련</td>\n",
       "      <td>8/1</td>\n",
       "      <td>강서구</td>\n",
       "      <td>보라매병원</td>\n",
       "    </tr>\n",
       "    <tr>\n",
       "      <th>4</th>\n",
       "      <td>1603  &lt;tr&gt;  &lt;td class=\"tdl\" colspan=\"5\"&gt;  &lt;p&gt;확...</td>\n",
       "      <td>#14365</td>\n",
       "      <td>강서구 요양시설관련</td>\n",
       "      <td>8/1</td>\n",
       "      <td>강서구</td>\n",
       "      <td>삼육서울병원</td>\n",
       "    </tr>\n",
       "  </tbody>\n",
       "</table>\n",
       "</div>"
      ],
      "text/plain": [
       "                                                  연번    환자번호           감염경로  \\\n",
       "0  1607  <tr>  <td class=\"tdl\" colspan=\"5\">  <p>확...  #14364     송파구 확진자 접촉   \n",
       "1  1606  <tr>  <td class=\"tdl\" colspan=\"5\">  <p>확...  #14362  종로구 지인모임 신명투자   \n",
       "2  1605  <tr>  <td class=\"tdl\" colspan=\"5\">  <p>확...  #14360           확인 중   \n",
       "3  1604  <tr>  <td class=\"tdl\" colspan=\"5\">  <p>확...  #14366     강서구 요양시설관련   \n",
       "4  1603  <tr>  <td class=\"tdl\" colspan=\"5\">  <p>확...  #14365     강서구 요양시설관련   \n",
       "\n",
       "    확진일  거주지     격리시설  \n",
       "0   8/1  양천구      NaN  \n",
       "1   8/1  종로구    서울의료원  \n",
       "2  7/31  마포구  서울대학교병원  \n",
       "3   8/1  강서구    보라매병원  \n",
       "4   8/1  강서구   삼육서울병원  "
      ]
     },
     "execution_count": 12,
     "metadata": {},
     "output_type": "execute_result"
    }
   ],
   "source": [
    "# 파일 불러오기\n",
    "\n",
    "df = pd.read_csv(file_name)\n",
    "df.head()"
   ]
  },
  {
   "cell_type": "code",
   "execution_count": 13,
   "metadata": {},
   "outputs": [
    {
     "data": {
      "text/html": [
       "<div>\n",
       "<style scoped>\n",
       "    .dataframe tbody tr th:only-of-type {\n",
       "        vertical-align: middle;\n",
       "    }\n",
       "\n",
       "    .dataframe tbody tr th {\n",
       "        vertical-align: top;\n",
       "    }\n",
       "\n",
       "    .dataframe thead th {\n",
       "        text-align: right;\n",
       "    }\n",
       "</style>\n",
       "<table border=\"1\" class=\"dataframe\">\n",
       "  <thead>\n",
       "    <tr style=\"text-align: right;\">\n",
       "      <th></th>\n",
       "      <th>연번</th>\n",
       "      <th>환자번호</th>\n",
       "      <th>감염경로</th>\n",
       "      <th>확진일</th>\n",
       "      <th>거주지</th>\n",
       "      <th>격리시설</th>\n",
       "    </tr>\n",
       "  </thead>\n",
       "  <tbody>\n",
       "    <tr>\n",
       "      <th>0</th>\n",
       "      <td>1607</td>\n",
       "      <td>#14364</td>\n",
       "      <td>송파구 확진자 접촉</td>\n",
       "      <td>8/1</td>\n",
       "      <td>양천구</td>\n",
       "      <td>NaN</td>\n",
       "    </tr>\n",
       "    <tr>\n",
       "      <th>1</th>\n",
       "      <td>1606</td>\n",
       "      <td>#14362</td>\n",
       "      <td>종로구 지인모임 신명투자</td>\n",
       "      <td>8/1</td>\n",
       "      <td>종로구</td>\n",
       "      <td>서울의료원</td>\n",
       "    </tr>\n",
       "    <tr>\n",
       "      <th>2</th>\n",
       "      <td>1605</td>\n",
       "      <td>#14360</td>\n",
       "      <td>확인 중</td>\n",
       "      <td>7/31</td>\n",
       "      <td>마포구</td>\n",
       "      <td>서울대학교병원</td>\n",
       "    </tr>\n",
       "    <tr>\n",
       "      <th>3</th>\n",
       "      <td>1604</td>\n",
       "      <td>#14366</td>\n",
       "      <td>강서구 요양시설관련</td>\n",
       "      <td>8/1</td>\n",
       "      <td>강서구</td>\n",
       "      <td>보라매병원</td>\n",
       "    </tr>\n",
       "    <tr>\n",
       "      <th>4</th>\n",
       "      <td>1603</td>\n",
       "      <td>#14365</td>\n",
       "      <td>강서구 요양시설관련</td>\n",
       "      <td>8/1</td>\n",
       "      <td>강서구</td>\n",
       "      <td>삼육서울병원</td>\n",
       "    </tr>\n",
       "  </tbody>\n",
       "</table>\n",
       "</div>"
      ],
      "text/plain": [
       "     연번    환자번호           감염경로   확진일  거주지     격리시설\n",
       "0  1607  #14364     송파구 확진자 접촉   8/1  양천구      NaN\n",
       "1  1606  #14362  종로구 지인모임 신명투자   8/1  종로구    서울의료원\n",
       "2  1605  #14360           확인 중  7/31  마포구  서울대학교병원\n",
       "3  1604  #14366     강서구 요양시설관련   8/1  강서구    보라매병원\n",
       "4  1603  #14365     강서구 요양시설관련   8/1  강서구   삼육서울병원"
      ]
     },
     "execution_count": 13,
     "metadata": {},
     "output_type": "execute_result"
    }
   ],
   "source": [
    "# 연번 뒤에 붙은 태그들 떼주기(왜 붙었는지 모름)\n",
    "\n",
    "for i in range(len(df['연번'])):\n",
    "    a = str(df['연번'][i])\n",
    "    df['연번'][i] = a.split()[0]\n",
    "    \n",
    "df.head()"
   ]
  },
  {
   "cell_type": "code",
   "execution_count": 14,
   "metadata": {},
   "outputs": [
    {
     "data": {
      "text/html": [
       "<div>\n",
       "<style scoped>\n",
       "    .dataframe tbody tr th:only-of-type {\n",
       "        vertical-align: middle;\n",
       "    }\n",
       "\n",
       "    .dataframe tbody tr th {\n",
       "        vertical-align: top;\n",
       "    }\n",
       "\n",
       "    .dataframe thead th {\n",
       "        text-align: right;\n",
       "    }\n",
       "</style>\n",
       "<table border=\"1\" class=\"dataframe\">\n",
       "  <thead>\n",
       "    <tr style=\"text-align: right;\">\n",
       "      <th></th>\n",
       "      <th>연번</th>\n",
       "      <th>환자번호</th>\n",
       "      <th>감염경로</th>\n",
       "      <th>확진일</th>\n",
       "      <th>거주지</th>\n",
       "      <th>격리시설</th>\n",
       "    </tr>\n",
       "  </thead>\n",
       "  <tbody>\n",
       "    <tr>\n",
       "      <th>0</th>\n",
       "      <td>1607</td>\n",
       "      <td>14364</td>\n",
       "      <td>송파구 확진자 접촉</td>\n",
       "      <td>8/1</td>\n",
       "      <td>양천구</td>\n",
       "      <td>NaN</td>\n",
       "    </tr>\n",
       "    <tr>\n",
       "      <th>1</th>\n",
       "      <td>1606</td>\n",
       "      <td>14362</td>\n",
       "      <td>종로구 지인모임 신명투자</td>\n",
       "      <td>8/1</td>\n",
       "      <td>종로구</td>\n",
       "      <td>서울의료원</td>\n",
       "    </tr>\n",
       "    <tr>\n",
       "      <th>2</th>\n",
       "      <td>1605</td>\n",
       "      <td>14360</td>\n",
       "      <td>확인 중</td>\n",
       "      <td>7/31</td>\n",
       "      <td>마포구</td>\n",
       "      <td>서울대학교병원</td>\n",
       "    </tr>\n",
       "    <tr>\n",
       "      <th>3</th>\n",
       "      <td>1604</td>\n",
       "      <td>14366</td>\n",
       "      <td>강서구 요양시설관련</td>\n",
       "      <td>8/1</td>\n",
       "      <td>강서구</td>\n",
       "      <td>보라매병원</td>\n",
       "    </tr>\n",
       "    <tr>\n",
       "      <th>4</th>\n",
       "      <td>1603</td>\n",
       "      <td>14365</td>\n",
       "      <td>강서구 요양시설관련</td>\n",
       "      <td>8/1</td>\n",
       "      <td>강서구</td>\n",
       "      <td>삼육서울병원</td>\n",
       "    </tr>\n",
       "  </tbody>\n",
       "</table>\n",
       "</div>"
      ],
      "text/plain": [
       "     연번   환자번호           감염경로   확진일  거주지     격리시설\n",
       "0  1607  14364     송파구 확진자 접촉   8/1  양천구      NaN\n",
       "1  1606  14362  종로구 지인모임 신명투자   8/1  종로구    서울의료원\n",
       "2  1605  14360           확인 중  7/31  마포구  서울대학교병원\n",
       "3  1604  14366     강서구 요양시설관련   8/1  강서구    보라매병원\n",
       "4  1603  14365     강서구 요양시설관련   8/1  강서구   삼육서울병원"
      ]
     },
     "execution_count": 14,
     "metadata": {},
     "output_type": "execute_result"
    }
   ],
   "source": [
    "# 환자번호에서 '#' 떼주기\n",
    "\n",
    "for i in range(len(df['환자번호'])):\n",
    "    b = str(df['환자번호'][i])\n",
    "    df['환자번호'][i] = b[1:]\n",
    "    \n",
    "df.head()"
   ]
  },
  {
   "cell_type": "code",
   "execution_count": 15,
   "metadata": {},
   "outputs": [
    {
     "name": "stdout",
     "output_type": "stream",
     "text": [
      "<class 'pandas.core.frame.DataFrame'>\n",
      "RangeIndex: 1607 entries, 0 to 1606\n",
      "Data columns (total 6 columns):\n",
      " #   Column  Non-Null Count  Dtype \n",
      "---  ------  --------------  ----- \n",
      " 0   연번      1607 non-null   object\n",
      " 1   환자번호    1607 non-null   object\n",
      " 2   감염경로    1607 non-null   object\n",
      " 3   확진일     1607 non-null   object\n",
      " 4   거주지     1607 non-null   object\n",
      " 5   격리시설    1606 non-null   object\n",
      "dtypes: object(6)\n",
      "memory usage: 75.5+ KB\n"
     ]
    }
   ],
   "source": [
    "# 데이터프레임 정보 보기\n",
    "\n",
    "df.info()"
   ]
  },
  {
   "cell_type": "code",
   "execution_count": 16,
   "metadata": {},
   "outputs": [
    {
     "name": "stdout",
     "output_type": "stream",
     "text": [
      "<class 'pandas.core.frame.DataFrame'>\n",
      "RangeIndex: 1607 entries, 0 to 1606\n",
      "Data columns (total 6 columns):\n",
      " #   Column  Non-Null Count  Dtype         \n",
      "---  ------  --------------  -----         \n",
      " 0   연번      1607 non-null   int32         \n",
      " 1   환자번호    1607 non-null   int32         \n",
      " 2   감염경로    1607 non-null   object        \n",
      " 3   확진일     1607 non-null   datetime64[ns]\n",
      " 4   거주지     1607 non-null   object        \n",
      " 5   격리시설    1607 non-null   object        \n",
      "dtypes: datetime64[ns](1), int32(2), object(3)\n",
      "memory usage: 62.9+ KB\n"
     ]
    }
   ],
   "source": [
    "# 원하는 타입으로 바꿔주기 - astype() 이용\n",
    "# 날짜 타입으로 바꾸는건 - pd.to_datetime() 이용\n",
    "\n",
    "df['연번'] = df['연번'].astype(int)\n",
    "df['환자번호'] = df['환자번호'].astype(int)\n",
    "df['감염경로'] = df['감염경로'].astype(str)\n",
    "df['확진일'] = pd.to_datetime('2020-' + df['확진일'].str.replace('/', '-'))\n",
    "df['거주지'] = df['거주지'].astype(str)\n",
    "df['격리시설'] = df['격리시설'].astype(str)\n",
    "\n",
    "df.info()"
   ]
  },
  {
   "cell_type": "code",
   "execution_count": 17,
   "metadata": {},
   "outputs": [
    {
     "data": {
      "text/html": [
       "<div>\n",
       "<style scoped>\n",
       "    .dataframe tbody tr th:only-of-type {\n",
       "        vertical-align: middle;\n",
       "    }\n",
       "\n",
       "    .dataframe tbody tr th {\n",
       "        vertical-align: top;\n",
       "    }\n",
       "\n",
       "    .dataframe thead th {\n",
       "        text-align: right;\n",
       "    }\n",
       "</style>\n",
       "<table border=\"1\" class=\"dataframe\">\n",
       "  <thead>\n",
       "    <tr style=\"text-align: right;\">\n",
       "      <th></th>\n",
       "      <th>연번</th>\n",
       "      <th>환자번호</th>\n",
       "      <th>감염경로</th>\n",
       "      <th>확진일</th>\n",
       "      <th>거주지</th>\n",
       "      <th>격리시설</th>\n",
       "    </tr>\n",
       "  </thead>\n",
       "  <tbody>\n",
       "    <tr>\n",
       "      <th>0</th>\n",
       "      <td>1607</td>\n",
       "      <td>14364</td>\n",
       "      <td>송파구 확진자 접촉</td>\n",
       "      <td>2020-08-01</td>\n",
       "      <td>양천구</td>\n",
       "      <td>nan</td>\n",
       "    </tr>\n",
       "    <tr>\n",
       "      <th>1</th>\n",
       "      <td>1606</td>\n",
       "      <td>14362</td>\n",
       "      <td>종로구 지인모임 신명투자</td>\n",
       "      <td>2020-08-01</td>\n",
       "      <td>종로구</td>\n",
       "      <td>서울의료원</td>\n",
       "    </tr>\n",
       "    <tr>\n",
       "      <th>2</th>\n",
       "      <td>1605</td>\n",
       "      <td>14360</td>\n",
       "      <td>확인 중</td>\n",
       "      <td>2020-07-31</td>\n",
       "      <td>마포구</td>\n",
       "      <td>서울대학교병원</td>\n",
       "    </tr>\n",
       "    <tr>\n",
       "      <th>3</th>\n",
       "      <td>1604</td>\n",
       "      <td>14366</td>\n",
       "      <td>강서구 요양시설관련</td>\n",
       "      <td>2020-08-01</td>\n",
       "      <td>강서구</td>\n",
       "      <td>보라매병원</td>\n",
       "    </tr>\n",
       "    <tr>\n",
       "      <th>4</th>\n",
       "      <td>1603</td>\n",
       "      <td>14365</td>\n",
       "      <td>강서구 요양시설관련</td>\n",
       "      <td>2020-08-01</td>\n",
       "      <td>강서구</td>\n",
       "      <td>삼육서울병원</td>\n",
       "    </tr>\n",
       "  </tbody>\n",
       "</table>\n",
       "</div>"
      ],
      "text/plain": [
       "     연번   환자번호           감염경로        확진일  거주지     격리시설\n",
       "0  1607  14364     송파구 확진자 접촉 2020-08-01  양천구      nan\n",
       "1  1606  14362  종로구 지인모임 신명투자 2020-08-01  종로구    서울의료원\n",
       "2  1605  14360           확인 중 2020-07-31  마포구  서울대학교병원\n",
       "3  1604  14366     강서구 요양시설관련 2020-08-01  강서구    보라매병원\n",
       "4  1603  14365     강서구 요양시설관련 2020-08-01  강서구   삼육서울병원"
      ]
     },
     "execution_count": 17,
     "metadata": {},
     "output_type": "execute_result"
    }
   ],
   "source": [
    "df.head()"
   ]
  },
  {
   "cell_type": "code",
   "execution_count": 18,
   "metadata": {},
   "outputs": [
    {
     "data": {
      "text/plain": [
       "'\\nplt.rc(\"axes\", unicode_minus=False)\\nplt.style.use(\"fivethirtyeight\")\\n'"
      ]
     },
     "execution_count": 18,
     "metadata": {},
     "output_type": "execute_result"
    }
   ],
   "source": [
    "# 시각화를 위한 한글폰트 설정\n",
    "\n",
    "plt.rc('font', family ='Malgun Gothic')\n",
    "\n",
    "\"\"\"\n",
    "plt.rc(\"axes\", unicode_minus=False)\n",
    "plt.style.use(\"fivethirtyeight\")\n",
    "\"\"\""
   ]
  },
  {
   "cell_type": "code",
   "execution_count": 19,
   "metadata": {},
   "outputs": [],
   "source": [
    "# 시각화 선명하게 설정하기\n",
    "\n",
    "from IPython.display import set_matplotlib_formats\n",
    "set_matplotlib_formats('retina')"
   ]
  },
  {
   "cell_type": "code",
   "execution_count": 20,
   "metadata": {},
   "outputs": [
    {
     "data": {
      "text/html": [
       "<div>\n",
       "<style scoped>\n",
       "    .dataframe tbody tr th:only-of-type {\n",
       "        vertical-align: middle;\n",
       "    }\n",
       "\n",
       "    .dataframe tbody tr th {\n",
       "        vertical-align: top;\n",
       "    }\n",
       "\n",
       "    .dataframe thead th {\n",
       "        text-align: right;\n",
       "    }\n",
       "</style>\n",
       "<table border=\"1\" class=\"dataframe\">\n",
       "  <thead>\n",
       "    <tr style=\"text-align: right;\">\n",
       "      <th></th>\n",
       "      <th>연번</th>\n",
       "      <th>확진일</th>\n",
       "    </tr>\n",
       "  </thead>\n",
       "  <tbody>\n",
       "    <tr>\n",
       "      <th>0</th>\n",
       "      <td>1607</td>\n",
       "      <td>2020-08-01</td>\n",
       "    </tr>\n",
       "    <tr>\n",
       "      <th>1</th>\n",
       "      <td>1606</td>\n",
       "      <td>2020-08-01</td>\n",
       "    </tr>\n",
       "    <tr>\n",
       "      <th>2</th>\n",
       "      <td>1605</td>\n",
       "      <td>2020-07-31</td>\n",
       "    </tr>\n",
       "    <tr>\n",
       "      <th>3</th>\n",
       "      <td>1604</td>\n",
       "      <td>2020-08-01</td>\n",
       "    </tr>\n",
       "    <tr>\n",
       "      <th>4</th>\n",
       "      <td>1603</td>\n",
       "      <td>2020-08-01</td>\n",
       "    </tr>\n",
       "    <tr>\n",
       "      <th>...</th>\n",
       "      <td>...</td>\n",
       "      <td>...</td>\n",
       "    </tr>\n",
       "    <tr>\n",
       "      <th>1602</th>\n",
       "      <td>5</td>\n",
       "      <td>2020-01-31</td>\n",
       "    </tr>\n",
       "    <tr>\n",
       "      <th>1603</th>\n",
       "      <td>4</td>\n",
       "      <td>2020-01-30</td>\n",
       "    </tr>\n",
       "    <tr>\n",
       "      <th>1604</th>\n",
       "      <td>3</td>\n",
       "      <td>2020-01-30</td>\n",
       "    </tr>\n",
       "    <tr>\n",
       "      <th>1605</th>\n",
       "      <td>2</td>\n",
       "      <td>2020-01-30</td>\n",
       "    </tr>\n",
       "    <tr>\n",
       "      <th>1606</th>\n",
       "      <td>1</td>\n",
       "      <td>2020-01-24</td>\n",
       "    </tr>\n",
       "  </tbody>\n",
       "</table>\n",
       "<p>1607 rows × 2 columns</p>\n",
       "</div>"
      ],
      "text/plain": [
       "        연번        확진일\n",
       "0     1607 2020-08-01\n",
       "1     1606 2020-08-01\n",
       "2     1605 2020-07-31\n",
       "3     1604 2020-08-01\n",
       "4     1603 2020-08-01\n",
       "...    ...        ...\n",
       "1602     5 2020-01-31\n",
       "1603     4 2020-01-30\n",
       "1604     3 2020-01-30\n",
       "1605     2 2020-01-30\n",
       "1606     1 2020-01-24\n",
       "\n",
       "[1607 rows x 2 columns]"
      ]
     },
     "execution_count": 20,
     "metadata": {},
     "output_type": "execute_result"
    }
   ],
   "source": [
    "# 날짜 파악을 위한 데이터프레임 생성\n",
    "\n",
    "DATE = df[['연번','확진일']]\n",
    "DATE"
   ]
  },
  {
   "cell_type": "code",
   "execution_count": 21,
   "metadata": {},
   "outputs": [
    {
     "data": {
      "text/plain": [
       "2020-03-10    46\n",
       "2020-06-12    30\n",
       "2020-06-06    29\n",
       "2020-06-05    27\n",
       "2020-03-09    26\n",
       "              ..\n",
       "2020-02-07     1\n",
       "2020-04-30     1\n",
       "2020-04-15     1\n",
       "2020-03-03     1\n",
       "2020-01-24     1\n",
       "Name: 확진일, Length: 162, dtype: int64"
      ]
     },
     "execution_count": 21,
     "metadata": {},
     "output_type": "execute_result"
    }
   ],
   "source": [
    "# 확진일별 발생 환자수 보기\n",
    "\n",
    "DATE['확진일'].value_counts()"
   ]
  },
  {
   "cell_type": "code",
   "execution_count": 22,
   "metadata": {},
   "outputs": [
    {
     "data": {
      "text/plain": [
       "Text(0, 0.5, '확진자수')"
      ]
     },
     "execution_count": 22,
     "metadata": {},
     "output_type": "execute_result"
    },
    {
     "data": {
      "image/png": "[encoded data removed]",
      "text/plain": [
       "<Figure size 1080x288 with 1 Axes>"
      ]
     },
     "metadata": {
      "image/png": {
       "height": 259,
       "width": 883
      },
      "needs_background": "light"
     },
     "output_type": "display_data"
    }
   ],
   "source": [
    "# 확진일별 발생 환자수 그래프 그리기(선그래프)\n",
    "\n",
    "DATE['확진일'].value_counts().sort_index().plot(figsize=(15, 4))\n",
    "plt.axhline(DATE['확진일'].value_counts().mean(), color='red', linestyle = ':') # y = 평균 선 추가\n",
    "plt.xlabel('확진일')\n",
    "plt.ylabel('확진자수')"
   ]
  },
  {
   "cell_type": "code",
   "execution_count": 22,
   "metadata": {},
   "outputs": [
    {
     "name": "stderr",
     "output_type": "stream",
     "text": [
      "<ipython-input-22-5583c470f644>:4: SettingWithCopyWarning: \n",
      "A value is trying to be set on a copy of a slice from a DataFrame.\n",
      "Try using .loc[row_indexer,col_indexer] = value instead\n",
      "\n",
      "See the caveats in the documentation: https://pandas.pydata.org/pandas-docs/stable/user_guide/indexing.html#returning-a-view-versus-a-copy\n",
      "  DATE['월일'] = DATE['확진일'].astype(str).map(lambda x: x[-5:])\n"
     ]
    },
    {
     "data": {
      "text/plain": [
       "Text(0, 0.5, '확진자수')"
      ]
     },
     "execution_count": 22,
     "metadata": {},
     "output_type": "execute_result"
    },
    {
     "data": {
      "image/png": "[encoded data removed]",
      "text/plain": [
       "<Figure size 1080x288 with 1 Axes>"
      ]
     },
     "metadata": {
      "image/png": {
       "height": 263,
       "width": 883
      },
      "needs_background": "light"
     },
     "output_type": "display_data"
    }
   ],
   "source": [
    "# 연도 생략하고 그래프 그리기 - 익명함수, map() 이용\n",
    "\n",
    "\n",
    "DATE['월일'] = DATE['확진일'].astype(str).map(lambda x: x[-5:])\n",
    "DATE['월일']\n",
    "\n",
    "DATE['월일'].value_counts().sort_index().plot(figsize = (15, 4), cmap = 'winter')\n",
    "plt.xlabel('확진일')\n",
    "plt.ylabel('확진자수')"
   ]
  },
  {
   "cell_type": "code",
   "execution_count": 23,
   "metadata": {
    "scrolled": true
   },
   "outputs": [
    {
     "data": {
      "text/html": [
       "<div>\n",
       "<style scoped>\n",
       "    .dataframe tbody tr th:only-of-type {\n",
       "        vertical-align: middle;\n",
       "    }\n",
       "\n",
       "    .dataframe tbody tr th {\n",
       "        vertical-align: top;\n",
       "    }\n",
       "\n",
       "    .dataframe thead th {\n",
       "        text-align: right;\n",
       "    }\n",
       "</style>\n",
       "<table border=\"1\" class=\"dataframe\">\n",
       "  <thead>\n",
       "    <tr style=\"text-align: right;\">\n",
       "      <th></th>\n",
       "      <th>연번</th>\n",
       "      <th>확진일</th>\n",
       "      <th>월일</th>\n",
       "    </tr>\n",
       "  </thead>\n",
       "  <tbody>\n",
       "    <tr>\n",
       "      <th>0</th>\n",
       "      <td>1607</td>\n",
       "      <td>2020-08-01</td>\n",
       "      <td>08-01</td>\n",
       "    </tr>\n",
       "    <tr>\n",
       "      <th>1</th>\n",
       "      <td>1606</td>\n",
       "      <td>2020-08-01</td>\n",
       "      <td>08-01</td>\n",
       "    </tr>\n",
       "    <tr>\n",
       "      <th>2</th>\n",
       "      <td>1605</td>\n",
       "      <td>2020-07-31</td>\n",
       "      <td>07-31</td>\n",
       "    </tr>\n",
       "    <tr>\n",
       "      <th>3</th>\n",
       "      <td>1604</td>\n",
       "      <td>2020-08-01</td>\n",
       "      <td>08-01</td>\n",
       "    </tr>\n",
       "    <tr>\n",
       "      <th>4</th>\n",
       "      <td>1603</td>\n",
       "      <td>2020-08-01</td>\n",
       "      <td>08-01</td>\n",
       "    </tr>\n",
       "  </tbody>\n",
       "</table>\n",
       "</div>"
      ],
      "text/plain": [
       "     연번        확진일     월일\n",
       "0  1607 2020-08-01  08-01\n",
       "1  1606 2020-08-01  08-01\n",
       "2  1605 2020-07-31  07-31\n",
       "3  1604 2020-08-01  08-01\n",
       "4  1603 2020-08-01  08-01"
      ]
     },
     "execution_count": 23,
     "metadata": {},
     "output_type": "execute_result"
    }
   ],
   "source": [
    "DATE.head()"
   ]
  }
 ],
 "metadata": {
  "kernelspec": {
   "display_name": "Python 3",
   "language": "python",
   "name": "python3"
  },
  "language_info": {
   "codemirror_mode": {
    "name": "ipython",
    "version": 3
   },
   "file_extension": ".py",
   "mimetype": "text/x-python",
   "name": "python",
   "nbconvert_exporter": "python",
   "pygments_lexer": "ipython3",
   "version": "3.8.3"
  }
 },
 "nbformat": 4,
 "nbformat_minor": 4
}
